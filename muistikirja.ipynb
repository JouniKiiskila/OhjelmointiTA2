{
 "metadata": {
  "language_info": {
   "codemirror_mode": {
    "name": "ipython",
    "version": 3
   },
   "file_extension": ".py",
   "mimetype": "text/x-python",
   "name": "python",
   "nbconvert_exporter": "python",
   "pygments_lexer": "ipython3",
   "version": "3.8.7-final"
  },
  "orig_nbformat": 2,
  "kernelspec": {
   "name": "python3",
   "display_name": "Python 3.8.7 64-bit ('venv')",
   "metadata": {
    "interpreter": {
     "hash": "f9999be661aabde954e25fdedf1893f7cc56b8a930edd14bea2648e555ec661c"
    }
   }
  }
 },
 "nbformat": 4,
 "nbformat_minor": 2,
 "cells": [
  {
   "source": [
    "# Jupyter-muistikirja\n",
    "Muistikirjaan voi kirjoittaa tekstejä Markdown-kielellä ja koodia pythonilla."
   ],
   "cell_type": "markdown",
   "metadata": {}
  },
  {
   "cell_type": "code",
   "execution_count": 7,
   "metadata": {},
   "outputs": [
    {
     "output_type": "stream",
     "name": "stdout",
     "text": [
      "Githup Campus Partner pääkäyytäjä on Markku Kynsijärvi\n"
     ]
    }
   ],
   "source": [
    "etunimi = 'Markku'\n",
    "sukunimi = 'Kynsijärvi'\n",
    "print('Githup Campus Partner pääkäyytäjä on', etunimi, sukunimi)\n"
   ]
  },
  {
   "source": [
    "## Funktio muistikirjassa"
   ],
   "cell_type": "markdown",
   "metadata": {}
  },
  {
   "cell_type": "code",
   "execution_count": 8,
   "metadata": {},
   "outputs": [
    {
     "output_type": "error",
     "ename": "NameError",
     "evalue": "name 'ympyran_keha' is not defined",
     "traceback": [
      "\u001b[1;31m---------------------------------------------------------------------------\u001b[0m",
      "\u001b[1;31mNameError\u001b[0m                                 Traceback (most recent call last)",
      "\u001b[1;32m<ipython-input-8-d0d9da1c9b03>\u001b[0m in \u001b[0;36m<module>\u001b[1;34m\u001b[0m\n\u001b[0;32m      6\u001b[0m     \u001b[1;32mreturn\u001b[0m \u001b[0mpinta_ala\u001b[0m\u001b[1;33m\u001b[0m\u001b[1;33m\u001b[0m\u001b[0m\n\u001b[0;32m      7\u001b[0m \u001b[1;33m\u001b[0m\u001b[0m\n\u001b[1;32m----> 8\u001b[1;33m \u001b[0mkehan_pituus\u001b[0m \u001b[1;33m=\u001b[0m \u001b[0mympyran_keha\u001b[0m\u001b[1;33m(\u001b[0m\u001b[1;36m2\u001b[0m\u001b[1;33m)\u001b[0m\u001b[1;33m\u001b[0m\u001b[1;33m\u001b[0m\u001b[0m\n\u001b[0m",
      "\u001b[1;31mNameError\u001b[0m: name 'ympyran_keha' is not defined"
     ]
    }
   ],
   "source": [
    "def ympyran_ala(halkaisija):\n",
    "    keha = halkaisija * 3.14159\n",
    "    return keha\n",
    "    sade = halkaisija / 2\n",
    "    pinta_ala = sade ** 2 * 3.14159\n",
    "    return pinta_ala\n",
    "\n"
   ]
  }
 ]
}