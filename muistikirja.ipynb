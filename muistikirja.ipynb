{
 "metadata": {
  "language_info": {
   "codemirror_mode": {
    "name": "ipython",
    "version": 3
   },
   "file_extension": ".py",
   "mimetype": "text/x-python",
   "name": "python",
   "nbconvert_exporter": "python",
   "pygments_lexer": "ipython3",
   "version": "3.8.7-final"
  },
  "orig_nbformat": 2,
  "kernelspec": {
   "name": "python3",
   "display_name": "Python 3.8.7 64-bit ('venv')",
   "metadata": {
    "interpreter": {
     "hash": "f9999be661aabde954e25fdedf1893f7cc56b8a930edd14bea2648e555ec661c"
    }
   }
  }
 },
 "nbformat": 4,
 "nbformat_minor": 2,
 "cells": [
  {
   "source": [
    "# Painonhallinta\n",
    "Prototyyppi painonhallintasovelluksen rakentamiseksi"
   ],
   "cell_type": "markdown",
   "metadata": {}
  },
  {
   "source": [
    "## Laskentakaavat\n",
    "Painoindeksi BMI (Body Mass Index): paino (kg) / (pituus(m) x pituus(m))\n",
    "\n",
    "Aikuisen rasvaprosentti = (1.20 × painoindeksi) + (0.23 × ikä) − (10.8 × sukupuoli) − 5.4\n",
    "\n",
    "jossa sukupuoli 1, jos mies ja 0, jos nainen.\n",
    "\n",
    "Lapsen rasvaprosentti = (1.51 × painoindeksi) − (0.70 × ikä) − (3.6 × sukupuoli) + 1.4"
   ],
   "cell_type": "markdown",
   "metadata": {}
  },
  {
   "cell_type": "code",
   "execution_count": 2,
   "metadata": {},
   "outputs": [],
   "source": [
    "# Funktio painoindeksin (body mass index) laskemiseksi\n",
    "def bmi(paino, pituus):\n",
    "    painoindeksi = paino / pituus**2\n",
    "    return painoindeksi\n",
    "\n",
    " "
   ]
  },
  {
   "cell_type": "code",
   "execution_count": 3,
   "metadata": {},
   "outputs": [],
   "source": [
    "# Funktio kehon rasvaprosentin laskemiseksi\n",
    "def rasvaprosentti(bmi, ika, sukupuoli):\n",
    "    rprosentti = 1.2 * bmi + 0.23 * ika - 10.8 * sukupuoli - 5.4\n",
    "    return rprosentti\n"
   ]
  },
  {
   "source": [
    "# Kysytään käyttäjältä tarvittavat tiedot\n",
    "paino_str = input(\"Anna painosi kilogrammoina: \")\n",
    "pituus_str = input(\"Anna pituutesi metreinä: \")\n",
    "ika_str = input(\"Kuinka vanha olet?: \")\n",
    "sukupuoli_str = input(\"Paina 1, jos olet mies, 0 jos olet nainen: \")\n"
   ],
   "cell_type": "code",
   "metadata": {},
   "execution_count": 4,
   "outputs": []
  },
  {
   "cell_type": "code",
   "execution_count": 5,
   "metadata": {},
   "outputs": [],
   "source": [
    "# Merkkijonot luvuiksi\n",
    "paino = float(paino_str)\n",
    "pituus = float(pituus_str)\n",
    "ika = float(ika_str)\n",
    "sukupuoli = float(sukupuoli_str)"
   ]
  },
  {
   "cell_type": "code",
   "execution_count": 6,
   "metadata": {},
   "outputs": [
    {
     "output_type": "stream",
     "name": "stdout",
     "text": [
      "Rasvaprosenttisi on 29.696789236809344\n"
     ]
    }
   ],
   "source": [
    "# Lasketaan painoindeksi kysyttyjen tietojen perusteella\n",
    "bmi = bmi(paino, pituus)\n",
    "\n",
    "# Lasketaan rasvaprosentti\n",
    "rasvaprosentti = rasvaprosentti(bmi, ika, sukupuoli)\n",
    "print(\"Rasvaprosenttisi on\", rasvaprosentti)\n"
   ]
  }
 ]
}